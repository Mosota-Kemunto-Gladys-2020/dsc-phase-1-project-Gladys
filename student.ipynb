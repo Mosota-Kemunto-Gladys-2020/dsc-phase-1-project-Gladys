{
 "cells": [
  {
   "cell_type": "markdown",
   "metadata": {},
   "source": [
    "## Final Project Submission\n",
    "\n",
    "Please fill out:\n",
    "* Student name: Gladys Kemunto\n",
    "* Student pace: self paced / part time / full time: Part-time\n",
    "* Scheduled project review date/time: 3rd June 2024\n",
    "* Instructor name: Samuel Karu\n",
    "* Blog post URL:https://github.com/Mosota-Kemunto-Gladys-2020/dsc-phase-1-project-Gladys.git\n"
   ]
  },
  {
   "cell_type": "code",
   "execution_count": 51,
   "metadata": {},
   "outputs": [],
   "source": [
    "# Import Relevant libraries\n",
    "\n",
    "import pandas as pd\n",
    "import numpy as np\n",
    "import matplotlib.pyplot as plt\n",
    "import gzip\n",
    "import os"
   ]
  },
  {
   "cell_type": "code",
   "execution_count": 52,
   "metadata": {},
   "outputs": [
    {
     "name": "stdout",
     "output_type": "stream",
     "text": [
      "c:\\Users\\Augustine Wanyonyi\\Desktop\\Phase_1_Project_June24\\dsc-phase-1-project-v2-4\\dsc-phase-1-project-v2-4\\zippedData\n"
     ]
    }
   ],
   "source": [
    "# Get to know  my current working directory\n",
    "import os\n",
    "# Get the current working directory\n",
    "current_directory = os.getcwd()\n",
    "\n",
    "# Print the current working directory\n",
    "print(current_directory)"
   ]
  },
  {
   "cell_type": "code",
   "execution_count": 53,
   "metadata": {},
   "outputs": [],
   "source": [
    "# Align the path accordingly to access all required files\n",
    "\n",
    "os.chdir('c:\\\\Users\\\\Augustine Wanyonyi\\\\Desktop\\\\Phase_1_Project_June24\\\\dsc-phase-1-project-v2-4\\\\dsc-phase-1-project-v2-4\\\\zippedData')"
   ]
  },
  {
   "cell_type": "markdown",
   "metadata": {},
   "source": [
    "# 1.Data analysis of bom.movie_gross csv.gz file\n",
    "\n",
    "To analyze the bom_movie_gross dataset, we will perform a series of steps to explore the data, understand trends, and extract insights. Here’s a structured approach to analyze this data:\n",
    "\n",
    "Initial stages:\n",
    "Check the structure of the DataFrame.\n",
    "Look at the summary statistics.\n",
    "Identify any missing values.\n",
    "\n",
    "Calculate Total Gross:\n",
    "Add a new column total_gross which is the sum of domestic_gross and foreign_gross.\n",
    "\n",
    "Analyze Trends Over Time:\n",
    "Group the data by Year and calculate the total and average gross.\n",
    "Visualize the trends over time using plots.\n",
    "\n",
    "Identify Top Performers:\n",
    "Find the top movies by total gross.\n",
    "Compare domestic and foreign gross for these top movies.\n",
    "\n",
    "Distribution Analysis:\n",
    "Analyze the distribution of domestic and foreign gross.\n",
    "Check for any patterns or anomalies.\n",
    "\n",
    "Visualize Insights:\n",
    "Create visualizations to better understand and present the data.\n"
   ]
  },
  {
   "cell_type": "code",
   "execution_count": 54,
   "metadata": {},
   "outputs": [
    {
     "data": {
      "text/html": [
       "<div>\n",
       "<style scoped>\n",
       "    .dataframe tbody tr th:only-of-type {\n",
       "        vertical-align: middle;\n",
       "    }\n",
       "\n",
       "    .dataframe tbody tr th {\n",
       "        vertical-align: top;\n",
       "    }\n",
       "\n",
       "    .dataframe thead th {\n",
       "        text-align: right;\n",
       "    }\n",
       "</style>\n",
       "<table border=\"1\" class=\"dataframe\">\n",
       "  <thead>\n",
       "    <tr style=\"text-align: right;\">\n",
       "      <th></th>\n",
       "      <th>title</th>\n",
       "      <th>studio</th>\n",
       "      <th>domestic_gross</th>\n",
       "      <th>foreign_gross</th>\n",
       "      <th>year</th>\n",
       "    </tr>\n",
       "  </thead>\n",
       "  <tbody>\n",
       "    <tr>\n",
       "      <th>0</th>\n",
       "      <td>Toy Story 3</td>\n",
       "      <td>BV</td>\n",
       "      <td>415000000.00</td>\n",
       "      <td>652000000</td>\n",
       "      <td>2010</td>\n",
       "    </tr>\n",
       "    <tr>\n",
       "      <th>1</th>\n",
       "      <td>Alice in Wonderland (2010)</td>\n",
       "      <td>BV</td>\n",
       "      <td>334200000.00</td>\n",
       "      <td>691300000</td>\n",
       "      <td>2010</td>\n",
       "    </tr>\n",
       "    <tr>\n",
       "      <th>2</th>\n",
       "      <td>Harry Potter and the Deathly Hallows Part 1</td>\n",
       "      <td>WB</td>\n",
       "      <td>296000000.00</td>\n",
       "      <td>664300000</td>\n",
       "      <td>2010</td>\n",
       "    </tr>\n",
       "    <tr>\n",
       "      <th>3</th>\n",
       "      <td>Inception</td>\n",
       "      <td>WB</td>\n",
       "      <td>292600000.00</td>\n",
       "      <td>535700000</td>\n",
       "      <td>2010</td>\n",
       "    </tr>\n",
       "    <tr>\n",
       "      <th>4</th>\n",
       "      <td>Shrek Forever After</td>\n",
       "      <td>P/DW</td>\n",
       "      <td>238700000.00</td>\n",
       "      <td>513900000</td>\n",
       "      <td>2010</td>\n",
       "    </tr>\n",
       "  </tbody>\n",
       "</table>\n",
       "</div>"
      ],
      "text/plain": [
       "                                         title studio  domestic_gross  \\\n",
       "0                                  Toy Story 3     BV    415000000.00   \n",
       "1                   Alice in Wonderland (2010)     BV    334200000.00   \n",
       "2  Harry Potter and the Deathly Hallows Part 1     WB    296000000.00   \n",
       "3                                    Inception     WB    292600000.00   \n",
       "4                          Shrek Forever After   P/DW    238700000.00   \n",
       "\n",
       "  foreign_gross  year  \n",
       "0     652000000  2010  \n",
       "1     691300000  2010  \n",
       "2     664300000  2010  \n",
       "3     535700000  2010  \n",
       "4     513900000  2010  "
      ]
     },
     "execution_count": 54,
     "metadata": {},
     "output_type": "execute_result"
    }
   ],
   "source": [
    "#Read the compressed gzip,csv file using pandas dataframe\n",
    "\n",
    "file_path = 'bom.movie_gross.csv.gz'\n",
    "bom_movie_gross= pd.read_csv(file_path,compression='gzip')\n",
    "bom_movie_gross.head()"
   ]
  },
  {
   "cell_type": "code",
   "execution_count": 55,
   "metadata": {},
   "outputs": [
    {
     "data": {
      "text/plain": [
       "(3387, 5)"
      ]
     },
     "execution_count": 55,
     "metadata": {},
     "output_type": "execute_result"
    }
   ],
   "source": [
    "bom_movie_gross.shape"
   ]
  },
  {
   "cell_type": "code",
   "execution_count": 56,
   "metadata": {},
   "outputs": [
    {
     "data": {
      "text/plain": [
       "Index(['title', 'studio', 'domestic_gross', 'foreign_gross', 'year'], dtype='object')"
      ]
     },
     "execution_count": 56,
     "metadata": {},
     "output_type": "execute_result"
    }
   ],
   "source": [
    "bom_movie_gross.columns"
   ]
  },
  {
   "cell_type": "code",
   "execution_count": 57,
   "metadata": {},
   "outputs": [
    {
     "data": {
      "text/plain": [
       "<bound method DataFrame.info of                                             title      studio  domestic_gross  \\\n",
       "0                                     Toy Story 3          BV    415000000.00   \n",
       "1                      Alice in Wonderland (2010)          BV    334200000.00   \n",
       "2     Harry Potter and the Deathly Hallows Part 1          WB    296000000.00   \n",
       "3                                       Inception          WB    292600000.00   \n",
       "4                             Shrek Forever After        P/DW    238700000.00   \n",
       "...                                           ...         ...             ...   \n",
       "3382                                    The Quake       Magn.         6200.00   \n",
       "3383                  Edward II (2018 re-release)          FM         4800.00   \n",
       "3384                                     El Pacto        Sony         2500.00   \n",
       "3385                                     The Swan  Synergetic         2400.00   \n",
       "3386                            An Actor Prepares       Grav.         1700.00   \n",
       "\n",
       "     foreign_gross  year  \n",
       "0        652000000  2010  \n",
       "1        691300000  2010  \n",
       "2        664300000  2010  \n",
       "3        535700000  2010  \n",
       "4        513900000  2010  \n",
       "...            ...   ...  \n",
       "3382           NaN  2018  \n",
       "3383           NaN  2018  \n",
       "3384           NaN  2018  \n",
       "3385           NaN  2018  \n",
       "3386           NaN  2018  \n",
       "\n",
       "[3387 rows x 5 columns]>"
      ]
     },
     "execution_count": 57,
     "metadata": {},
     "output_type": "execute_result"
    }
   ],
   "source": [
    "bom_movie_gross.info"
   ]
  },
  {
   "cell_type": "code",
   "execution_count": 58,
   "metadata": {},
   "outputs": [
    {
     "name": "stdout",
     "output_type": "stream",
     "text": [
      "Unique values in 'domestic_gross':\n",
      "[4.150e+08 3.342e+08 2.960e+08 ... 2.070e+04 1.290e+04 2.400e+03]\n",
      "Unique values in 'foreign_gross':\n",
      "['652000000' '691300000' '664300000' ... '530000' '256000' '30000']\n"
     ]
    }
   ],
   "source": [
    "# Analyse date to check for Unique values in 'domestic_gross' and Unique values in 'foreign_gross\n",
    "\n",
    "\n",
    "# Load the dataset\n",
    "file_path = 'bom.movie_gross.csv.gz'  # Adjust the path as needed\n",
    "bom_movie_gross = pd.read_csv(file_path, compression='gzip')\n",
    "\n",
    "# Check for non-numeric values in 'domestic_gross' column\n",
    "print(\"Unique values in 'domestic_gross':\")\n",
    "print(bom_movie_gross['domestic_gross'].unique())\n",
    "\n",
    "# Check for non-numeric values in 'foreign_gross' column\n",
    "print(\"Unique values in 'foreign_gross':\")\n",
    "print(bom_movie_gross['foreign_gross'].unique())\n",
    "\n"
   ]
  },
  {
   "cell_type": "code",
   "execution_count": 59,
   "metadata": {},
   "outputs": [],
   "source": [
    "# Convert non-numeric values to NaN\n",
    "bom_movie_gross['domestic_gross'] = pd.to_numeric(bom_movie_gross['domestic_gross'], errors='coerce')\n",
    "bom_movie_gross['foreign_gross'] = pd.to_numeric(bom_movie_gross['foreign_gross'], errors='coerce')\n",
    "\n",
    "# Handle NaN values (e.g., replace with zero)\n",
    "bom_movie_gross['domestic_gross'].fillna(0, inplace=True)\n",
    "bom_movie_gross['foreign_gross'].fillna(0, inplace=True)\n",
    "\n",
    "# Calculate total gross (domestic + foreign)\n",
    "bom_movie_gross['total_gross'] = bom_movie_gross['domestic_gross'] + bom_movie_gross['foreign_gross']\n"
   ]
  },
  {
   "cell_type": "code",
   "execution_count": 60,
   "metadata": {},
   "outputs": [
    {
     "name": "stdout",
     "output_type": "stream",
     "text": [
      "       domestic_gross  foreign_gross   total_gross\n",
      "count         3387.00        3387.00       3387.00\n",
      "mean      28508205.96    45029792.91   73537998.87\n",
      "std       66755749.11   112684346.56  170509096.95\n",
      "min              0.00           0.00        100.00\n",
      "25%         111500.00           0.00     274000.00\n",
      "50%        1300000.00     1500000.00    5475000.00\n",
      "75%       27500000.00    29150000.00   61350000.00\n",
      "max      936700000.00   960500000.00 1518900000.00\n"
     ]
    }
   ],
   "source": [
    "# Get summary statistics\n",
    "summary_stats = bom_movie_gross[['domestic_gross', 'foreign_gross', 'total_gross']].describe()\n",
    "print(summary_stats)\n"
   ]
  },
  {
   "cell_type": "code",
   "execution_count": 61,
   "metadata": {},
   "outputs": [
    {
     "name": "stdout",
     "output_type": "stream",
     "text": [
      "       domestic_gross  foreign_gross   total_gross\n",
      "count         3387.00        3387.00       3387.00\n",
      "mean      28508205.96    45029792.91   73537998.87\n",
      "std       66755749.11   112684346.56  170509096.95\n",
      "min              0.00           0.00        100.00\n",
      "25%         111500.00           0.00     274000.00\n",
      "50%        1300000.00     1500000.00    5475000.00\n",
      "75%       27500000.00    29150000.00   61350000.00\n",
      "max      936700000.00   960500000.00 1518900000.00\n"
     ]
    }
   ],
   "source": [
    "# Set display options to avoid scientific notation\n",
    "pd.set_option('display.float_format', lambda x: '%.2f' % x)\n",
    "\n",
    "# Now, when you print the DataFrame, it will display numbers in standard numeric format\n",
    "print(bom_movie_gross[['domestic_gross', 'foreign_gross', 'total_gross']].describe())\n",
    "# Set display options to avoid scientific notation\n",
    "pd.set_option('display.float_format', lambda x: '%.2f' % x)\n"
   ]
  },
  {
   "cell_type": "code",
   "execution_count": 62,
   "metadata": {},
   "outputs": [
    {
     "name": "stdout",
     "output_type": "stream",
     "text": [
      "                                            title studio  domestic_gross  \\\n",
      "727                         Marvel's The Avengers     BV    623400000.00   \n",
      "1875                      Avengers: Age of Ultron     BV    459000000.00   \n",
      "3080                                Black Panther     BV    700100000.00   \n",
      "328   Harry Potter and the Deathly Hallows Part 2     WB    381000000.00   \n",
      "2758                     Star Wars: The Last Jedi     BV    620200000.00   \n",
      "3081               Jurassic World: Fallen Kingdom   Uni.    417700000.00   \n",
      "1127                                       Frozen     BV    400700000.00   \n",
      "2759                  Beauty and the Beast (2017)     BV    504000000.00   \n",
      "3082                                Incredibles 2     BV    608600000.00   \n",
      "1128                                   Iron Man 3     BV    409000000.00   \n",
      "\n",
      "      foreign_gross  year   total_gross  \n",
      "727    895500000.00  2012 1518900000.00  \n",
      "1875   946400000.00  2015 1405400000.00  \n",
      "3080   646900000.00  2018 1347000000.00  \n",
      "328    960500000.00  2011 1341500000.00  \n",
      "2758   712400000.00  2017 1332600000.00  \n",
      "3081   891800000.00  2018 1309500000.00  \n",
      "1127   875700000.00  2013 1276400000.00  \n",
      "2759   759500000.00  2017 1263500000.00  \n",
      "3082   634200000.00  2018 1242800000.00  \n",
      "1128   805800000.00  2013 1214800000.00  \n"
     ]
    }
   ],
   "source": [
    "# Sort movies by total gross\n",
    "sorted_movies = bom_movie_gross.sort_values(by='total_gross', ascending=False)\n",
    "print(sorted_movies.head(10))"
   ]
  },
  {
   "cell_type": "code",
   "execution_count": 63,
   "metadata": {},
   "outputs": [
    {
     "data": {
      "text/plain": [
       "pandas.core.frame.DataFrame"
      ]
     },
     "execution_count": 63,
     "metadata": {},
     "output_type": "execute_result"
    }
   ],
   "source": [
    "type(sorted_movies)"
   ]
  },
  {
   "cell_type": "code",
   "execution_count": 64,
   "metadata": {},
   "outputs": [
    {
     "name": "stdout",
     "output_type": "stream",
     "text": [
      "       domestic_gross  foreign_gross   total_gross\n",
      "count         3387.00        3387.00       3387.00\n",
      "mean      28508205.96    45029792.91   73537998.87\n",
      "std       66755749.11   112684346.56  170509096.95\n",
      "min              0.00           0.00        100.00\n",
      "25%         111500.00           0.00     274000.00\n",
      "50%        1300000.00     1500000.00    5475000.00\n",
      "75%       27500000.00    29150000.00   61350000.00\n",
      "max      936700000.00   960500000.00 1518900000.00\n"
     ]
    }
   ],
   "source": [
    "# Get summary statistics\n",
    "summary_stats = bom_movie_gross[['domestic_gross', 'foreign_gross', 'total_gross']].describe()\n",
    "print(summary_stats)\n"
   ]
  },
  {
   "cell_type": "markdown",
   "metadata": {},
   "source": [
    "\n",
    "Here are the summary statistics for domestic_gross, foreign_gross, and total_gross:\n",
    "\n",
    "Key Insights for Microsoft\n",
    "1. Average Performance (Mean)\n",
    "Domestic Gross: On average, films make about $28.5 million domestically.\n",
    "Foreign Gross: Films perform better internationally, with an average gross of about $45 million.\n",
    "Total Gross: The combined average gross for films is about $73.5 million.\n",
    "Implication for Microsoft: Microsoft's new movie studio should focus on producing films with international appeal to maximize revenue. Consider genres and themes that are globally appealing.\n",
    "\n",
    "2. Variation in Performance (Standard Deviation)\n",
    "Standard Deviation: High variability in earnings with a standard deviation of about $66.8 million for domestic gross and $112.7 million for foreign gross. The total gross variation is about $170.5 million.\n",
    "Implication for Microsoft: The movie market is highly unpredictable. Microsoft should diversify its film portfolio to spread risk and capture different market segments.\n",
    "\n",
    "3. Quartiles and Median\n",
    "25th Percentile: 25% of films earn less than $111,500 domestically and have no foreign gross, totaling $274,000.\n",
    "Median (50th Percentile): The median values are $1.3 million (domestic), $1.5 million (foreign), and $5.475 million (total).\n",
    "75th Percentile: The top 25% of films earn $27.5 million domestically and $29.15 million internationally, totaling $61.35 million.\n",
    "Implication for Microsoft: Most films have modest earnings, with only a few achieving blockbuster status. Setting realistic goals based on median values can help in budget planning and marketing strategies.\n",
    "\n",
    "4. Extremes (Min and Max)\n",
    "Minimum Gross: The lowest-performing films make $0 domestically and internationally, with a total gross as low as $100.\n",
    "Maximum Gross: The highest-performing films make $936.7 million domestically and $960.5 million internationally, totaling $1.519 billion.\n",
    "Implication for Microsoft: While blockbusters are rare, they contribute significantly to total revenue. Microsoft should aim for a mix of high-risk, high-reward blockbusters and steady-performing films.\n",
    "\n",
    "Business Recommendations for Microsoft\n",
    "Focus on International Appeal:\n",
    "\n",
    "Given the higher average foreign gross, Microsoft should produce films that resonate with international audiences. This can be achieved through diverse casting, globally appealing storylines, and international marketing strategies.\n",
    "Diversify Film Portfolio:\n",
    "\n",
    "To manage risk and maximize potential earnings, Microsoft should produce a mix of films, including low-budget films with high potential for return and a few high-budget films that could become blockbusters.\n",
    "Set Realistic Goals:\n",
    "\n",
    "Targeting the median values ($1.3 million domestic and $1.5 million foreign gross) ensures most films achieve a satisfactory level of success. Microsoft should focus on producing films that at least reach these median values to ensure profitability."
   ]
  },
  {
   "cell_type": "markdown",
   "metadata": {},
   "source": [
    "# Visualizing the Data\n",
    "To support these insights with visualizations, you will create boxplots, bar charts, or line graphs showing the distribution of domestic, foreign, and total gross, and highlighting the quartiles"
   ]
  },
  {
   "cell_type": "code",
   "execution_count": 65,
   "metadata": {},
   "outputs": [],
   "source": [
    "# Boxplot for Domestic, Foreign, and Total Gross"
   ]
  },
  {
   "cell_type": "code",
   "execution_count": 66,
   "metadata": {},
   "outputs": [
    {
     "name": "stdout",
     "output_type": "stream",
     "text": [
      "       domestic_gross  foreign_gross   total_gross\n",
      "count         3387.00        3387.00       3387.00\n",
      "mean      28508205.96    45029792.91   73537998.87\n",
      "std       66755749.11   112684346.56  170509096.95\n",
      "min              0.00           0.00        100.00\n",
      "25%         111500.00           0.00     274000.00\n",
      "50%        1300000.00     1500000.00    5475000.00\n",
      "75%       27500000.00    29150000.00   61350000.00\n",
      "max      936700000.00   960500000.00 1518900000.00\n"
     ]
    },
    {
     "data": {
      "image/png": "[encoded data removed]",
      "text/plain": [
       "<Figure size 864x576 with 1 Axes>"
      ]
     },
     "metadata": {
      "needs_background": "light"
     },
     "output_type": "display_data"
    }
   ],
   "source": [
    "\n",
    "import matplotlib.pyplot as plt\n",
    "import seaborn as sns\n",
    "\n",
    "# Set display options to avoid scientific notation\n",
    "pd.set_option('display.float_format', lambda x: '%.2f' % x)\n",
    "\n",
    "# Display the summary statistics\n",
    "print(summary_stats)\n",
    "\n",
    "# Boxplot for Domestic, Foreign, and Total Gross\n",
    "plt.figure(figsize=(12, 8))\n",
    "sns.boxplot(data=bom_movie_gross[['domestic_gross', 'foreign_gross', 'total_gross']])\n",
    "plt.title('Distribution of Domestic, Foreign, and Total Gross')\n",
    "plt.ylabel('Gross Amount ($)')\n",
    "plt.show()"
   ]
  },
  {
   "cell_type": "markdown",
   "metadata": {},
   "source": [
    "\n",
    "The box plot visualizes the distribution of three variables: domestic_gross, foreign_gross, and total_gross. Here’s a detailed interpretation:\n",
    "\n",
    "Domestic Gross (Left Plot):\n",
    "\n",
    "Median (Middle Line of the Box): The median domestic gross is indicated by the horizontal line within the box. This represents the 50th percentile of the data.\n",
    "Interquartile Range (IQR, Box Edges): The edges of the box represent the 25th and 75th percentiles, showing where the middle 50% of the data lie.\n",
    "Whiskers: The lines extending from the box (whiskers) indicate the range within 1.5 times the IQR from the quartiles. Data points outside this range are considered outliers.\n",
    "Outliers (Dots Beyond Whiskers): The dots above the whiskers represent outliers, which are domestic gross values significantly higher than the rest of the data.\n",
    "Foreign Gross (Middle Plot):\n",
    "\n",
    "Median: The median foreign gross is indicated by the middle line within the box.\n",
    "IQR: The box shows the 25th to 75th percentile range for foreign gross.\n",
    "Whiskers and Outliers: The whiskers indicate the range of typical values, and the dots above the whiskers are outliers, representing significantly high foreign gross values.\n",
    "Total Gross (Right Plot):\n",
    "\n",
    "Median: The median total gross is indicated by the middle line within the box.\n",
    "IQR: The box represents the 25th to 75th percentile range for total gross.\n",
    "Whiskers and Outliers: The whiskers show the range of typical values, and the outliers are indicated by the dots above the whiskers, representing significantly high total gross values.\n",
    "Key Insights for Microsoft\n",
    "High Variability:\n",
    "\n",
    "All three distributions show a high level of variability, as indicated by the presence of many outliers and the spread of the whiskers. This suggests that while some films have average gross values, others perform exceptionally well or poorly.\n",
    "Significant Outliers:\n",
    "\n",
    "The presence of many outliers in all three plots indicates that there are several films with exceptionally high gross values. These outliers could represent blockbuster movies that significantly outperform typical films.\n",
    "Domestic vs. Foreign Gross:\n",
    "\n",
    "Comparing the domestic_gross and foreign_gross, the foreign gross seems to have a higher median and potentially higher maximum values, indicating that films might generally perform better in foreign markets than domestically.\n",
    "Total Gross:\n",
    "\n",
    "The total_gross plot consolidates the domestic and foreign gross, showing a wider range and more outliers. This indicates that the total gross can vary significantly, influenced by both domestic and foreign performances.\n",
    "Recommendations for Microsoft\n",
    "Focus on International Markets:\n",
    "\n",
    "Given the higher median and more significant outliers in the foreign gross, Microsoft should consider targeting international markets when producing new films. This could involve creating content with global appeal and investing in international marketing campaigns.\n",
    "Diverse Film Portfolio:\n",
    "\n",
    "The high variability and presence of outliers suggest that the film industry is unpredictable. Microsoft should aim to produce a diverse portfolio of films, including both low-budget and high-budget projects, to balance risk and maximize potential returns.\n",
    "Leverage Blockbusters:\n",
    "\n",
    "Since outliers represent films with exceptionally high gross values, Microsoft should aim to create blockbuster films occasionally. These high-performing films can significantly boost the studio's overall revenue.\n",
    "By analyzing the distribution of domestic, foreign, and total gross values, Microsoft can make informed decisions about the types of films to produce and the markets to target."
   ]
  },
  {
   "cell_type": "code",
   "execution_count": 67,
   "metadata": {},
   "outputs": [
    {
     "data": {
      "text/plain": [
       "Index(['title', 'studio', 'domestic_gross', 'foreign_gross', 'year',\n",
       "       'total_gross'],\n",
       "      dtype='object')"
      ]
     },
     "execution_count": 67,
     "metadata": {},
     "output_type": "execute_result"
    }
   ],
   "source": [
    "bom_movie_gross.columns"
   ]
  },
  {
   "cell_type": "code",
   "execution_count": 68,
   "metadata": {},
   "outputs": [
    {
     "data": {
      "image/png": "[encoded data removed]",
      "text/plain": [
       "<Figure size 720x432 with 1 Axes>"
      ]
     },
     "metadata": {
      "needs_background": "light"
     },
     "output_type": "display_data"
    }
   ],
   "source": [
    "import matplotlib.pyplot as plt\n",
    "# Scatter plot of domestic vs. foreign gross\n",
    "plt.figure(figsize=(10, 6))\n",
    "plt.scatter(bom_movie_gross['domestic_gross'], bom_movie_gross['foreign_gross'], alpha=0.5)\n",
    "plt.xlabel('Domestic Gross')\n",
    "plt.ylabel('Foreign Gross')\n",
    "plt.title('Domestic vs. Foreign Gross Revenue')\n",
    "plt.grid(True)\n",
    "plt.show()"
   ]
  },
  {
   "cell_type": "markdown",
   "metadata": {},
   "source": [
    "The scatter plot above illustrates the relationship between domestic gross revenue and foreign gross revenue for movies. Here are some observations:\n",
    "\n",
    "Clustering: A large number of movies have both domestic and foreign gross revenues below $200 million.\n",
    "High Gross Outliers: There are a few outliers with extremely high domestic and foreign gross revenues, suggesting blockbuster movies  because they stand out as having much higher earnings.\n",
    "Positive Correlation: There's a general positive correlation between domestic and foreign gross revenues, indicating that movies that perform well domestically often also perform well internationally."
   ]
  },
  {
   "cell_type": "code",
   "execution_count": 69,
   "metadata": {},
   "outputs": [
    {
     "data": {
      "image/png": "[encoded data removed]",
      "text/plain": [
       "<Figure size 864x576 with 1 Axes>"
      ]
     },
     "metadata": {
      "needs_background": "light"
     },
     "output_type": "display_data"
    },
    {
     "data": {
      "image/png": "[encoded data removed]",
      "text/plain": [
       "<Figure size 864x576 with 1 Axes>"
      ]
     },
     "metadata": {
      "needs_background": "light"
     },
     "output_type": "display_data"
    }
   ],
   "source": [
    "# Group by Year and calculate total and average gross\n",
    "yearly_gross = bom_movie_gross.groupby('year')['total_gross'].sum()\n",
    "average_gross = bom_movie_gross.groupby('year')['total_gross'].mean()\n",
    "\n",
    "# Plot the trends over time\n",
    "plt.figure(figsize=(12, 8))\n",
    "plt.plot(yearly_gross.index, yearly_gross.values, marker='o')\n",
    "plt.title('Total Gross Over Years')\n",
    "plt.xlabel('Year')\n",
    "plt.ylabel('Total Gross')\n",
    "plt.grid(True)\n",
    "plt.show()\n",
    "\n",
    "plt.figure(figsize=(12, 8))\n",
    "plt.plot(average_gross.index, average_gross.values, marker='o', color='orange')\n",
    "plt.title('Average Gross Over Years')\n",
    "plt.xlabel('year')\n",
    "plt.ylabel('Average Gross')\n",
    "plt.grid(True)\n",
    "plt.show()\n"
   ]
  },
  {
   "cell_type": "markdown",
   "metadata": {},
   "source": [
    "Analysis of Average Gross Over Years\n",
    "The line chart provided shows the trend of average gross revenue for movies from 2010 to 2018. Here are some observations and insights based on this chart:\n",
    "\n",
    "Observations:\n",
    "Fluctuating Trend: The average gross revenue shows significant fluctuations over the years.\n",
    "\n",
    "Peaks and Troughs:\n",
    "\n",
    "Peak in 2017: The year 2017 shows a significant peak in average gross revenue.\n",
    "Trough in 2015: There is a noticeable dip in average gross revenue in 2015.\n",
    "\n",
    "Recovery and Decline:\n",
    "Post-2015 Recovery: After the dip in 2015, there is a strong recovery, peaking in 2017.\n",
    "Slight Decline in 2018: The average gross revenue slightly declines after the peak in 2017.\n",
    "\n",
    "Insights and Recommendations:\n",
    "Identify High-Performing Years:\n",
    "\n",
    "Analyze 2017: Investigate the factors that contributed to the high average gross revenue in 2017. This could include successful genres, franchises, or marketing strategies.\n",
    "Leverage Success: Emulate the strategies from 2017 for future movie productions to maximize average gross revenue.\n",
    "\n",
    "Understand Low-Performing Years:\n",
    "\n",
    "Analyze 2015: Examine why 2015 had a low average gross revenue. Factors could include economic downturns, fewer blockbuster releases, or increased competition.\n",
    "Risk Mitigation: Develop strategies to mitigate risks identified in low-performing years to avoid similar pitfalls in the future.\n",
    "\n",
    "Consistent Quality and Marketing:\n",
    "\n",
    "High-Quality Productions: Ensure consistent investment in high-quality productions to maintain or increase average gross revenue.\n",
    "Effective Marketing: Implement effective marketing campaigns, especially during years where competition is high or audience interest is low.\n",
    "\n",
    "Strategic Release Timing:\n",
    "\n",
    "Optimize Release Schedules: Based on the trend, optimize movie release schedules to coincide with periods of high audience interest and low competition.\n",
    "Seasonal Analysis: Conduct a seasonal analysis to determine the best times of the year to release movies for maximum average gross revenue.\n",
    "\n",
    "Next Steps:\n",
    "\n",
    "Deep Dive Analysis: Perform a detailed analysis of movies released in peak and trough years to identify common factors contributing to their performance.\n",
    "Market Research: Conduct market research to understand changing audience preferences and emerging trends.\n",
    "\n",
    "Strategy Formulation: Develop a comprehensive strategy for Microsoft's new movie studio based on the insights gathered from data analysis."
   ]
  },
  {
   "cell_type": "code",
   "execution_count": 70,
   "metadata": {},
   "outputs": [
    {
     "data": {
      "text/plain": [
       "'c:\\\\Users\\\\Augustine Wanyonyi\\\\Desktop\\\\Phase_1_Project_June24\\\\dsc-phase-1-project-v2-4\\\\dsc-phase-1-project-v2-4\\\\zippedData'"
      ]
     },
     "execution_count": 70,
     "metadata": {},
     "output_type": "execute_result"
    }
   ],
   "source": [
    "pwd"
   ]
  },
  {
   "cell_type": "code",
   "execution_count": 71,
   "metadata": {},
   "outputs": [],
   "source": [
    "import sqlite3\n",
    "import pandas as pd\n",
    "import zipfile\n",
    "import os\n",
    "\n",
    "# Define the path to the zip file and the destination directory\n",
    "zip_file_path = 'im.db.zip'\n",
    "destination_dir = 'unzipped_files'\n",
    "\n",
    "# Unzip the file\n",
    "with zipfile.ZipFile(zip_file_path, 'r') as zip_ref:\n",
    "    zip_ref.extractall(destination_dir)\n",
    "\n",
    "# Find the unzipped database file\n",
    "unzipped_files = os.listdir(destination_dir)\n",
    "db_file = [file for file in unzipped_files if file.endswith('.db')][0]\n",
    "db_file_path = os.path.join(destination_dir, db_file)\n"
   ]
  },
  {
   "cell_type": "code",
   "execution_count": 72,
   "metadata": {},
   "outputs": [
    {
     "name": "stdout",
     "output_type": "stream",
     "text": [
      "[]\n"
     ]
    }
   ],
   "source": [
    "import sqlite3\n",
    "\n",
    "# Connect to the database and list all tables\n",
    "with sqlite3.connect('im.db') as conn:\n",
    "    cursor = conn.cursor()\n",
    "    cursor.execute(\"SELECT name FROM sqlite_master WHERE type='table';\")\n",
    "    tables = cursor.fetchall()\n",
    "\n",
    "# Display the list of tables\n",
    "print(tables)"
   ]
  },
  {
   "cell_type": "code",
   "execution_count": 73,
   "metadata": {},
   "outputs": [
    {
     "name": "stdout",
     "output_type": "stream",
     "text": [
      "[]\n"
     ]
    }
   ],
   "source": [
    "# Connect to the database and get the schema of the movie_basics table\n",
    "with sqlite3.connect('im.db') as conn:\n",
    "    cursor = conn.cursor()\n",
    "    cursor.execute(\"PRAGMA table_info(movie_basics);\")\n",
    "    schema = cursor.fetchall()\n",
    "\n",
    "# Display the schema of the movie_basics table\n",
    "print(schema)"
   ]
  },
  {
   "cell_type": "code",
   "execution_count": 74,
   "metadata": {},
   "outputs": [
    {
     "name": "stdout",
     "output_type": "stream",
     "text": [
      "Tables in the database: []\n",
      "Table 'movie_basics' does not exist in the database.\n",
      "Required tables do not exist in the database.\n"
     ]
    }
   ],
   "source": [
    "import pandas as pd\n",
    "import sqlite3\n",
    "\n",
    "# Connect to the database and list all tables\n",
    "with sqlite3.connect('im.db') as conn:\n",
    "    cursor = conn.cursor()\n",
    "    cursor.execute(\"SELECT name FROM sqlite_master WHERE type='table';\")\n",
    "    tables = cursor.fetchall()\n",
    "\n",
    "# Display the list of tables\n",
    "print(\"Tables in the database:\", tables)\n",
    "\n",
    "# If the table exists, get the schema\n",
    "if ('movie_basics',) in tables:\n",
    "    with sqlite3.connect('im.db') as conn:\n",
    "        cursor = conn.cursor()\n",
    "        cursor.execute(\"PRAGMA table_info(movie_basics);\")\n",
    "        schema = cursor.fetchall()\n",
    "    print(\"Schema of movie_basics table:\", schema)\n",
    "else:\n",
    "    print(\"Table 'movie_basics' does not exist in the database.\")\n",
    "\n",
    "# Define your SQL query\n",
    "query = \"\"\"\n",
    "SELECT movie_basics.primary_title,\n",
    "       movie_basics.start_year,\n",
    "       movie_basics.genres,\n",
    "       movie_ratings.averagerating,\n",
    "       movie_ratings.numvotes\n",
    "FROM movie_basics \n",
    "JOIN movie_ratings ON movie_basics.movie_id = movie_ratings.movie_id\n",
    "WHERE movie_basics.start_year >= 2019\n",
    "      AND movie_ratings.numvotes >= 50000  -- Consider only movies with a significant number of votes\n",
    "ORDER BY movie_ratings.averagerating DESC, movie_ratings.numvotes DESC;\n",
    "\"\"\"\n",
    "\n",
    "# Execute the query and read the result into a pandas DataFrame using with statement\n",
    "if ('movie_basics',) in tables and ('movie_ratings',) in tables:\n",
    "    with sqlite3.connect('im.db') as conn:\n",
    "        df = pd.read_sql(query, conn)\n",
    "    # Display the DataFrame\n",
    "    print(df.head(20))\n",
    "else:\n",
    "    print(\"Required tables do not exist in the database.\")"
   ]
  },
  {
   "cell_type": "code",
   "execution_count": 75,
   "metadata": {},
   "outputs": [
    {
     "ename": "DatabaseError",
     "evalue": "Execution failed on sql '\nSELECT movie_basics.primary_title,\n       movie_basics.start_year,\n       movie_basics.genres,\n       movie_ratings.averagerating,\n       movie_ratings.numvotes\nFROM movie_basics \nJOIN movie_ratings ON movie_basics.movie_id = movie_ratings.movie_id\nWHERE movie_basics.start_year >= 2019\n      AND movie_ratings.numvotes >= 50000  -- Consider only movies with a significant number of votes\nORDER BY movie_ratings.averagerating DESC, movie_ratings.numvotes DESC;\n': no such table: movie_basics",
     "output_type": "error",
     "traceback": [
      "\u001b[1;31m---------------------------------------------------------------------------\u001b[0m",
      "\u001b[1;31mOperationalError\u001b[0m                          Traceback (most recent call last)",
      "\u001b[1;32mc:\\Users\\Augustine Wanyonyi\\anaconda3\\envs\\learn-env\\lib\\site-packages\\pandas\\io\\sql.py\u001b[0m in \u001b[0;36mexecute\u001b[1;34m(self, sql, params)\u001b[0m\n\u001b[0;32m   2201\u001b[0m         \u001b[1;32mtry\u001b[0m\u001b[1;33m:\u001b[0m\u001b[1;33m\u001b[0m\u001b[1;33m\u001b[0m\u001b[0m\n\u001b[1;32m-> 2202\u001b[1;33m             \u001b[0mcur\u001b[0m\u001b[1;33m.\u001b[0m\u001b[0mexecute\u001b[0m\u001b[1;33m(\u001b[0m\u001b[0msql\u001b[0m\u001b[1;33m,\u001b[0m \u001b[1;33m*\u001b[0m\u001b[0margs\u001b[0m\u001b[1;33m)\u001b[0m\u001b[1;33m\u001b[0m\u001b[1;33m\u001b[0m\u001b[0m\n\u001b[0m\u001b[0;32m   2203\u001b[0m             \u001b[1;32mreturn\u001b[0m \u001b[0mcur\u001b[0m\u001b[1;33m\u001b[0m\u001b[1;33m\u001b[0m\u001b[0m\n",
      "\u001b[1;31mOperationalError\u001b[0m: no such table: movie_basics",
      "\nThe above exception was the direct cause of the following exception:\n",
      "\u001b[1;31mDatabaseError\u001b[0m                             Traceback (most recent call last)",
      "\u001b[1;32m<ipython-input-75-e56d9670f366>\u001b[0m in \u001b[0;36m<module>\u001b[1;34m\u001b[0m\n\u001b[0;32m     20\u001b[0m \u001b[1;31m# Execute the query and read the result into a pandas DataFrame using with statement\u001b[0m\u001b[1;33m\u001b[0m\u001b[1;33m\u001b[0m\u001b[1;33m\u001b[0m\u001b[0m\n\u001b[0;32m     21\u001b[0m \u001b[1;32mwith\u001b[0m \u001b[0msqlite3\u001b[0m\u001b[1;33m.\u001b[0m\u001b[0mconnect\u001b[0m\u001b[1;33m(\u001b[0m\u001b[1;34m'im.db'\u001b[0m\u001b[1;33m)\u001b[0m \u001b[1;32mas\u001b[0m \u001b[0mconn\u001b[0m\u001b[1;33m:\u001b[0m\u001b[1;33m\u001b[0m\u001b[1;33m\u001b[0m\u001b[0m\n\u001b[1;32m---> 22\u001b[1;33m     \u001b[0mdf\u001b[0m \u001b[1;33m=\u001b[0m \u001b[0mpd\u001b[0m\u001b[1;33m.\u001b[0m\u001b[0mread_sql\u001b[0m\u001b[1;33m(\u001b[0m\u001b[0mquery\u001b[0m\u001b[1;33m,\u001b[0m \u001b[0mconn\u001b[0m\u001b[1;33m)\u001b[0m\u001b[1;33m\u001b[0m\u001b[1;33m\u001b[0m\u001b[0m\n\u001b[0m\u001b[0;32m     23\u001b[0m \u001b[1;33m\u001b[0m\u001b[0m\n\u001b[0;32m     24\u001b[0m \u001b[1;31m# Display the DataFrame\u001b[0m\u001b[1;33m\u001b[0m\u001b[1;33m\u001b[0m\u001b[1;33m\u001b[0m\u001b[0m\n",
      "\u001b[1;32mc:\\Users\\Augustine Wanyonyi\\anaconda3\\envs\\learn-env\\lib\\site-packages\\pandas\\io\\sql.py\u001b[0m in \u001b[0;36mread_sql\u001b[1;34m(sql, con, index_col, coerce_float, params, parse_dates, columns, chunksize, dtype_backend, dtype)\u001b[0m\n\u001b[0;32m    633\u001b[0m     \u001b[1;32mwith\u001b[0m \u001b[0mpandasSQL_builder\u001b[0m\u001b[1;33m(\u001b[0m\u001b[0mcon\u001b[0m\u001b[1;33m)\u001b[0m \u001b[1;32mas\u001b[0m \u001b[0mpandas_sql\u001b[0m\u001b[1;33m:\u001b[0m\u001b[1;33m\u001b[0m\u001b[1;33m\u001b[0m\u001b[0m\n\u001b[0;32m    634\u001b[0m         \u001b[1;32mif\u001b[0m \u001b[0misinstance\u001b[0m\u001b[1;33m(\u001b[0m\u001b[0mpandas_sql\u001b[0m\u001b[1;33m,\u001b[0m \u001b[0mSQLiteDatabase\u001b[0m\u001b[1;33m)\u001b[0m\u001b[1;33m:\u001b[0m\u001b[1;33m\u001b[0m\u001b[1;33m\u001b[0m\u001b[0m\n\u001b[1;32m--> 635\u001b[1;33m             return pandas_sql.read_query(\n\u001b[0m\u001b[0;32m    636\u001b[0m                 \u001b[0msql\u001b[0m\u001b[1;33m,\u001b[0m\u001b[1;33m\u001b[0m\u001b[1;33m\u001b[0m\u001b[0m\n\u001b[0;32m    637\u001b[0m                 \u001b[0mindex_col\u001b[0m\u001b[1;33m=\u001b[0m\u001b[0mindex_col\u001b[0m\u001b[1;33m,\u001b[0m\u001b[1;33m\u001b[0m\u001b[1;33m\u001b[0m\u001b[0m\n",
      "\u001b[1;32mc:\\Users\\Augustine Wanyonyi\\anaconda3\\envs\\learn-env\\lib\\site-packages\\pandas\\io\\sql.py\u001b[0m in \u001b[0;36mread_query\u001b[1;34m(self, sql, index_col, coerce_float, parse_dates, params, chunksize, dtype, dtype_backend)\u001b[0m\n\u001b[0;32m   2264\u001b[0m         \u001b[0mdtype_backend\u001b[0m\u001b[1;33m:\u001b[0m \u001b[0mDtypeBackend\u001b[0m \u001b[1;33m|\u001b[0m \u001b[0mLiteral\u001b[0m\u001b[1;33m[\u001b[0m\u001b[1;34m\"numpy\"\u001b[0m\u001b[1;33m]\u001b[0m \u001b[1;33m=\u001b[0m \u001b[1;34m\"numpy\"\u001b[0m\u001b[1;33m,\u001b[0m\u001b[1;33m\u001b[0m\u001b[1;33m\u001b[0m\u001b[0m\n\u001b[0;32m   2265\u001b[0m     ) -> DataFrame | Iterator[DataFrame]:\n\u001b[1;32m-> 2266\u001b[1;33m         \u001b[0mcursor\u001b[0m \u001b[1;33m=\u001b[0m \u001b[0mself\u001b[0m\u001b[1;33m.\u001b[0m\u001b[0mexecute\u001b[0m\u001b[1;33m(\u001b[0m\u001b[0msql\u001b[0m\u001b[1;33m,\u001b[0m \u001b[0mparams\u001b[0m\u001b[1;33m)\u001b[0m\u001b[1;33m\u001b[0m\u001b[1;33m\u001b[0m\u001b[0m\n\u001b[0m\u001b[0;32m   2267\u001b[0m         \u001b[0mcolumns\u001b[0m \u001b[1;33m=\u001b[0m \u001b[1;33m[\u001b[0m\u001b[0mcol_desc\u001b[0m\u001b[1;33m[\u001b[0m\u001b[1;36m0\u001b[0m\u001b[1;33m]\u001b[0m \u001b[1;32mfor\u001b[0m \u001b[0mcol_desc\u001b[0m \u001b[1;32min\u001b[0m \u001b[0mcursor\u001b[0m\u001b[1;33m.\u001b[0m\u001b[0mdescription\u001b[0m\u001b[1;33m]\u001b[0m\u001b[1;33m\u001b[0m\u001b[1;33m\u001b[0m\u001b[0m\n\u001b[0;32m   2268\u001b[0m \u001b[1;33m\u001b[0m\u001b[0m\n",
      "\u001b[1;32mc:\\Users\\Augustine Wanyonyi\\anaconda3\\envs\\learn-env\\lib\\site-packages\\pandas\\io\\sql.py\u001b[0m in \u001b[0;36mexecute\u001b[1;34m(self, sql, params)\u001b[0m\n\u001b[0;32m   2212\u001b[0m \u001b[1;33m\u001b[0m\u001b[0m\n\u001b[0;32m   2213\u001b[0m             \u001b[0mex\u001b[0m \u001b[1;33m=\u001b[0m \u001b[0mDatabaseError\u001b[0m\u001b[1;33m(\u001b[0m\u001b[1;34mf\"Execution failed on sql '{sql}': {exc}\"\u001b[0m\u001b[1;33m)\u001b[0m\u001b[1;33m\u001b[0m\u001b[1;33m\u001b[0m\u001b[0m\n\u001b[1;32m-> 2214\u001b[1;33m             \u001b[1;32mraise\u001b[0m \u001b[0mex\u001b[0m \u001b[1;32mfrom\u001b[0m \u001b[0mexc\u001b[0m\u001b[1;33m\u001b[0m\u001b[1;33m\u001b[0m\u001b[0m\n\u001b[0m\u001b[0;32m   2215\u001b[0m \u001b[1;33m\u001b[0m\u001b[0m\n\u001b[0;32m   2216\u001b[0m     \u001b[1;33m@\u001b[0m\u001b[0mstaticmethod\u001b[0m\u001b[1;33m\u001b[0m\u001b[1;33m\u001b[0m\u001b[0m\n",
      "\u001b[1;31mDatabaseError\u001b[0m: Execution failed on sql '\nSELECT movie_basics.primary_title,\n       movie_basics.start_year,\n       movie_basics.genres,\n       movie_ratings.averagerating,\n       movie_ratings.numvotes\nFROM movie_basics \nJOIN movie_ratings ON movie_basics.movie_id = movie_ratings.movie_id\nWHERE movie_basics.start_year >= 2019\n      AND movie_ratings.numvotes >= 50000  -- Consider only movies with a significant number of votes\nORDER BY movie_ratings.averagerating DESC, movie_ratings.numvotes DESC;\n': no such table: movie_basics"
     ]
    }
   ],
   "source": [
    "\n",
    "import sqlite3\n",
    "import pandas as pd\n",
    "import zipfile\n",
    "import os\n",
    "\n",
    "# Define your SQL query\n",
    "query = \"\"\"\n",
    "SELECT movie_basics.primary_title,\n",
    "       movie_basics.start_year,\n",
    "       movie_basics.genres,\n",
    "       movie_ratings.averagerating,\n",
    "       movie_ratings.numvotes\n",
    "FROM movie_basics \n",
    "JOIN movie_ratings ON movie_basics.movie_id = movie_ratings.movie_id\n",
    "WHERE movie_basics.start_year >= 2019\n",
    "      AND movie_ratings.numvotes >= 50000  -- Consider only movies with a significant number of votes\n",
    "ORDER BY movie_ratings.averagerating DESC, movie_ratings.numvotes DESC;\n",
    "\"\"\"\n",
    "\n",
    "# Execute the query and read the result into a pandas DataFrame using with statement\n",
    "with sqlite3.connect('im.db') as conn:\n",
    "    df = pd.read_sql(query, conn)\n",
    "\n",
    "# Display the DataFrame\n",
    "print(df.head(20))\n",
    "\n",
    "\n"
   ]
  }
 ],
 "metadata": {
  "kernelspec": {
   "display_name": "Python 3",
   "language": "python",
   "name": "python3"
  },
  "language_info": {
   "codemirror_mode": {
    "name": "ipython",
    "version": 3
   },
   "file_extension": ".py",
   "mimetype": "text/x-python",
   "name": "python",
   "nbconvert_exporter": "python",
   "pygments_lexer": "ipython3",
   "version": "3.8.1"
  }
 },
 "nbformat": 4,
 "nbformat_minor": 2
}
